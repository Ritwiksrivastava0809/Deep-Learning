{
  "cells": [
    {
      "cell_type": "code",
      "execution_count": 1,
      "metadata": {
        "id": "7r13uMgaSDes"
      },
      "outputs": [],
      "source": [
        "import numpy as np\n",
        "import pandas as pd\n",
        "import tensorflow as tf\n",
        "import matplotlib.pyplot as plt \n",
        "import seaborn as sns\n",
        "import os\n",
        "plt.style.use('fivethirtyeight')\n",
        "%load_ext tensorboard\n"
      ]
    },
    {
      "cell_type": "code",
      "execution_count": 2,
      "metadata": {
        "id": "Cv6T7NZ1TER7"
      },
      "outputs": [],
      "source": [
        "(xtrain , ytrain) , (xtest , ytest) = tf.keras.datasets.fashion_mnist.load_data()\n",
        "xtrain = xtrain/255.0\n",
        "xtest = xtest/255.0\n",
        "x_valid , x_train = xtrain[:5000] , xtrain[5000:]\n",
        "y_valid , y_train = ytrain[:5000] , ytrain[5000:]"
      ]
    },
    {
      "cell_type": "code",
      "execution_count": 3,
      "metadata": {
        "id": "_KXGAS1GTtZM"
      },
      "outputs": [],
      "source": [
        "layers = [\n",
        "    tf.keras.layers.Flatten(input_shape = [28,28]),\n",
        "    tf.keras.layers.Dense(300 , kernel_initializer = 'he_normal'),\n",
        "    tf.keras.layers.LeakyReLU(),\n",
        "    tf.keras.layers.Dense(100 , kernel_initializer = 'he_normal'),\n",
        "    tf.keras.layers.LeakyReLU(),\n",
        "    tf.keras.layers.Dense(10 , activation = 'softmax'),\n",
        "]\n",
        "\n",
        "model = tf.keras.models.Sequential(layers)"
      ]
    },
    {
      "cell_type": "code",
      "execution_count": 4,
      "metadata": {
        "colab": {
          "base_uri": "https://localhost:8080/"
        },
        "id": "WCIwfp70Uq1w",
        "outputId": "2427cc6b-68df-46a0-b67e-ffed5cab79aa"
      },
      "outputs": [],
      "source": [
        "model.compile(\n",
        "                loss=tf.losses.sparse_categorical_crossentropy,\n",
        "                optimizer=tf.keras.optimizers.SGD(learning_rate = 1e-3),\n",
        "                metrics=[\"accuracy\"])"
      ]
    },
    {
      "cell_type": "code",
      "execution_count": 5,
      "metadata": {
        "colab": {
          "base_uri": "https://localhost:8080/"
        },
        "id": "m8ORTRD8U7VQ",
        "outputId": "504e7dbd-7f17-457c-a266-f4674003af6f"
      },
      "outputs": [
        {
          "name": "stdout",
          "output_type": "stream",
          "text": [
            "Model: \"sequential\"\n",
            "_________________________________________________________________\n",
            " Layer (type)                Output Shape              Param #   \n",
            "=================================================================\n",
            " flatten (Flatten)           (None, 784)               0         \n",
            "                                                                 \n",
            " dense (Dense)               (None, 300)               235500    \n",
            "                                                                 \n",
            " leaky_re_lu (LeakyReLU)     (None, 300)               0         \n",
            "                                                                 \n",
            " dense_1 (Dense)             (None, 100)               30100     \n",
            "                                                                 \n",
            " leaky_re_lu_1 (LeakyReLU)   (None, 100)               0         \n",
            "                                                                 \n",
            " dense_2 (Dense)             (None, 10)                1010      \n",
            "                                                                 \n",
            "=================================================================\n",
            "Total params: 266,610\n",
            "Trainable params: 266,610\n",
            "Non-trainable params: 0\n",
            "_________________________________________________________________\n"
          ]
        }
      ],
      "source": [
        "model.summary()\n"
      ]
    },
    {
      "cell_type": "code",
      "execution_count": 6,
      "metadata": {
        "colab": {
          "base_uri": "https://localhost:8080/"
        },
        "id": "feAdegiIU_4K",
        "outputId": "0e513c94-ea0f-44ff-dc93-d34c5bc0ac3f"
      },
      "outputs": [
        {
          "name": "stdout",
          "output_type": "stream",
          "text": [
            "Epoch 1/50\n",
            "1719/1719 [==============================] - 4s 2ms/step - loss: 1.3012 - accuracy: 0.5933 - val_loss: 0.8853 - val_accuracy: 0.7062\n",
            "Epoch 2/50\n",
            "1719/1719 [==============================] - 4s 2ms/step - loss: 0.7991 - accuracy: 0.7294 - val_loss: 0.7145 - val_accuracy: 0.7608\n",
            "Epoch 3/50\n",
            "1719/1719 [==============================] - 4s 2ms/step - loss: 0.6871 - accuracy: 0.7696 - val_loss: 0.6384 - val_accuracy: 0.7892\n",
            "Epoch 4/50\n",
            "1719/1719 [==============================] - 4s 2ms/step - loss: 0.6271 - accuracy: 0.7898 - val_loss: 0.5926 - val_accuracy: 0.8054\n",
            "Epoch 5/50\n",
            "1719/1719 [==============================] - 4s 2ms/step - loss: 0.5886 - accuracy: 0.8020 - val_loss: 0.5608 - val_accuracy: 0.8126\n",
            "Epoch 6/50\n",
            "1719/1719 [==============================] - 3s 2ms/step - loss: 0.5611 - accuracy: 0.8103 - val_loss: 0.5385 - val_accuracy: 0.8216\n",
            "Epoch 7/50\n",
            "1719/1719 [==============================] - 4s 2ms/step - loss: 0.5405 - accuracy: 0.8163 - val_loss: 0.5197 - val_accuracy: 0.8292\n",
            "Epoch 8/50\n",
            "1719/1719 [==============================] - 4s 2ms/step - loss: 0.5240 - accuracy: 0.8212 - val_loss: 0.5043 - val_accuracy: 0.8332\n",
            "Epoch 9/50\n",
            "1719/1719 [==============================] - 4s 2ms/step - loss: 0.5103 - accuracy: 0.8257 - val_loss: 0.4963 - val_accuracy: 0.8378\n",
            "Epoch 10/50\n",
            "1719/1719 [==============================] - 3s 2ms/step - loss: 0.4993 - accuracy: 0.8289 - val_loss: 0.4867 - val_accuracy: 0.8350\n",
            "Epoch 11/50\n",
            "1719/1719 [==============================] - 4s 2ms/step - loss: 0.4899 - accuracy: 0.8315 - val_loss: 0.4761 - val_accuracy: 0.8394\n",
            "Epoch 12/50\n",
            "1719/1719 [==============================] - 4s 2ms/step - loss: 0.4816 - accuracy: 0.8345 - val_loss: 0.4680 - val_accuracy: 0.8432\n",
            "Epoch 13/50\n",
            "1719/1719 [==============================] - 4s 3ms/step - loss: 0.4748 - accuracy: 0.8366 - val_loss: 0.4622 - val_accuracy: 0.8448\n",
            "Epoch 14/50\n",
            "1719/1719 [==============================] - 8s 5ms/step - loss: 0.4683 - accuracy: 0.8382 - val_loss: 0.4600 - val_accuracy: 0.8446\n",
            "Epoch 15/50\n",
            "1719/1719 [==============================] - 8s 5ms/step - loss: 0.4626 - accuracy: 0.8393 - val_loss: 0.4533 - val_accuracy: 0.8448\n",
            "Epoch 16/50\n",
            "1719/1719 [==============================] - 8s 5ms/step - loss: 0.4576 - accuracy: 0.8409 - val_loss: 0.4483 - val_accuracy: 0.8464\n",
            "Epoch 17/50\n",
            "1719/1719 [==============================] - 5s 3ms/step - loss: 0.4530 - accuracy: 0.8433 - val_loss: 0.4441 - val_accuracy: 0.8508\n",
            "Epoch 18/50\n",
            "1719/1719 [==============================] - 4s 2ms/step - loss: 0.4483 - accuracy: 0.8441 - val_loss: 0.4395 - val_accuracy: 0.8486\n",
            "Epoch 19/50\n",
            "1719/1719 [==============================] - 4s 2ms/step - loss: 0.4444 - accuracy: 0.8453 - val_loss: 0.4380 - val_accuracy: 0.8492\n",
            "Epoch 20/50\n",
            "1719/1719 [==============================] - 4s 2ms/step - loss: 0.4406 - accuracy: 0.8464 - val_loss: 0.4351 - val_accuracy: 0.8528\n",
            "Epoch 21/50\n",
            "1719/1719 [==============================] - 4s 2ms/step - loss: 0.4373 - accuracy: 0.8475 - val_loss: 0.4310 - val_accuracy: 0.8508\n",
            "Epoch 22/50\n",
            "1719/1719 [==============================] - 4s 2ms/step - loss: 0.4334 - accuracy: 0.8489 - val_loss: 0.4280 - val_accuracy: 0.8558\n",
            "Epoch 23/50\n",
            "1719/1719 [==============================] - 4s 3ms/step - loss: 0.4305 - accuracy: 0.8495 - val_loss: 0.4261 - val_accuracy: 0.8572\n",
            "Epoch 24/50\n",
            "1719/1719 [==============================] - 7s 4ms/step - loss: 0.4273 - accuracy: 0.8512 - val_loss: 0.4261 - val_accuracy: 0.8544\n",
            "Epoch 25/50\n",
            "1719/1719 [==============================] - 8s 5ms/step - loss: 0.4245 - accuracy: 0.8514 - val_loss: 0.4224 - val_accuracy: 0.8554\n",
            "Epoch 26/50\n",
            "1719/1719 [==============================] - 8s 4ms/step - loss: 0.4218 - accuracy: 0.8527 - val_loss: 0.4189 - val_accuracy: 0.8562\n",
            "Epoch 27/50\n",
            "1719/1719 [==============================] - 8s 4ms/step - loss: 0.4186 - accuracy: 0.8543 - val_loss: 0.4197 - val_accuracy: 0.8574\n",
            "Epoch 28/50\n",
            "1719/1719 [==============================] - 8s 4ms/step - loss: 0.4165 - accuracy: 0.8551 - val_loss: 0.4147 - val_accuracy: 0.8600\n",
            "Epoch 29/50\n",
            "1719/1719 [==============================] - 8s 4ms/step - loss: 0.4143 - accuracy: 0.8557 - val_loss: 0.4126 - val_accuracy: 0.8578\n",
            "Epoch 30/50\n",
            "1719/1719 [==============================] - 8s 5ms/step - loss: 0.4122 - accuracy: 0.8566 - val_loss: 0.4108 - val_accuracy: 0.8608\n",
            "Epoch 31/50\n",
            "1719/1719 [==============================] - 6s 4ms/step - loss: 0.4096 - accuracy: 0.8570 - val_loss: 0.4100 - val_accuracy: 0.8608\n",
            "Epoch 32/50\n",
            "1719/1719 [==============================] - 4s 2ms/step - loss: 0.4072 - accuracy: 0.8578 - val_loss: 0.4102 - val_accuracy: 0.8568\n",
            "Epoch 33/50\n",
            "1719/1719 [==============================] - 5s 3ms/step - loss: 0.4052 - accuracy: 0.8601 - val_loss: 0.4061 - val_accuracy: 0.8636\n",
            "Epoch 34/50\n",
            "1719/1719 [==============================] - 8s 5ms/step - loss: 0.4035 - accuracy: 0.8598 - val_loss: 0.4064 - val_accuracy: 0.8614\n",
            "Epoch 35/50\n",
            "1719/1719 [==============================] - 8s 5ms/step - loss: 0.4013 - accuracy: 0.8600 - val_loss: 0.4026 - val_accuracy: 0.8636\n",
            "Epoch 36/50\n",
            "1719/1719 [==============================] - 8s 5ms/step - loss: 0.3994 - accuracy: 0.8621 - val_loss: 0.4023 - val_accuracy: 0.8666\n",
            "Epoch 37/50\n",
            "1719/1719 [==============================] - 8s 5ms/step - loss: 0.3974 - accuracy: 0.8620 - val_loss: 0.3998 - val_accuracy: 0.8628\n",
            "Epoch 38/50\n",
            "1719/1719 [==============================] - 8s 5ms/step - loss: 0.3958 - accuracy: 0.8621 - val_loss: 0.4022 - val_accuracy: 0.8612\n",
            "Epoch 39/50\n",
            "1719/1719 [==============================] - 8s 5ms/step - loss: 0.3938 - accuracy: 0.8635 - val_loss: 0.3979 - val_accuracy: 0.8692\n",
            "Epoch 40/50\n",
            "1719/1719 [==============================] - 5s 3ms/step - loss: 0.3921 - accuracy: 0.8638 - val_loss: 0.3961 - val_accuracy: 0.8646\n",
            "Epoch 41/50\n",
            "1719/1719 [==============================] - 5s 3ms/step - loss: 0.3906 - accuracy: 0.8635 - val_loss: 0.3932 - val_accuracy: 0.8636\n",
            "Epoch 42/50\n",
            "1719/1719 [==============================] - 8s 4ms/step - loss: 0.3888 - accuracy: 0.8640 - val_loss: 0.3950 - val_accuracy: 0.8612\n",
            "Epoch 43/50\n",
            "1719/1719 [==============================] - 8s 5ms/step - loss: 0.3868 - accuracy: 0.8652 - val_loss: 0.3922 - val_accuracy: 0.8654\n",
            "Epoch 44/50\n",
            "1719/1719 [==============================] - 8s 5ms/step - loss: 0.3854 - accuracy: 0.8658 - val_loss: 0.3893 - val_accuracy: 0.8674\n",
            "Epoch 45/50\n",
            "1719/1719 [==============================] - 8s 5ms/step - loss: 0.3840 - accuracy: 0.8667 - val_loss: 0.3892 - val_accuracy: 0.8672\n",
            "Epoch 46/50\n",
            "1719/1719 [==============================] - 8s 5ms/step - loss: 0.3823 - accuracy: 0.8663 - val_loss: 0.3917 - val_accuracy: 0.8672\n",
            "Epoch 47/50\n",
            "1719/1719 [==============================] - 8s 5ms/step - loss: 0.3805 - accuracy: 0.8675 - val_loss: 0.3870 - val_accuracy: 0.8672\n",
            "Epoch 48/50\n",
            "1719/1719 [==============================] - 8s 5ms/step - loss: 0.3792 - accuracy: 0.8679 - val_loss: 0.3858 - val_accuracy: 0.8696\n",
            "Epoch 49/50\n",
            "1719/1719 [==============================] - 8s 5ms/step - loss: 0.3777 - accuracy: 0.8682 - val_loss: 0.3895 - val_accuracy: 0.8662\n",
            "Epoch 50/50\n",
            "1719/1719 [==============================] - 8s 5ms/step - loss: 0.3761 - accuracy: 0.8683 - val_loss: 0.3842 - val_accuracy: 0.8682\n"
          ]
        }
      ],
      "source": [
        "history = model.fit(x_train,y_train , epochs = 50 , validation_data = (x_valid , y_valid))"
      ]
    },
    {
      "cell_type": "markdown",
      "metadata": {
        "id": "XcPTB1taVwEu"
      },
      "source": [
        "### Batch Normalization"
      ]
    },
    {
      "cell_type": "code",
      "execution_count": 7,
      "metadata": {
        "id": "FSKwybsmVOoj"
      },
      "outputs": [],
      "source": [
        "del model"
      ]
    },
    {
      "cell_type": "code",
      "execution_count": 8,
      "metadata": {
        "id": "5Qu2pPRZV3uB"
      },
      "outputs": [],
      "source": [
        "layers_BN = [\n",
        "    tf.keras.layers.Flatten(input_shape = [28,28]),\n",
        "    tf.keras.layers.BatchNormalization(),\n",
        "    tf.keras.layers.Dense(300 , activation = 'relu'),\n",
        "    tf.keras.layers.BatchNormalization(),\n",
        "    tf.keras.layers.Dense(100 , activation = 'relu'),\n",
        "    tf.keras.layers.BatchNormalization(),\n",
        "    tf.keras.layers.Dense(10 , activation = 'softmax'),\n",
        "]\n",
        "\n",
        "model = tf.keras.models.Sequential(layers_BN)"
      ]
    },
    {
      "cell_type": "code",
      "execution_count": 9,
      "metadata": {
        "colab": {
          "base_uri": "https://localhost:8080/"
        },
        "id": "Vo2XfgfaWXMj",
        "outputId": "796f0096-f4f2-4f63-81e6-762aedaa9ab8"
      },
      "outputs": [
        {
          "name": "stdout",
          "output_type": "stream",
          "text": [
            "Model: \"sequential_1\"\n",
            "_________________________________________________________________\n",
            " Layer (type)                Output Shape              Param #   \n",
            "=================================================================\n",
            " flatten_1 (Flatten)         (None, 784)               0         \n",
            "                                                                 \n",
            " batch_normalization (BatchN  (None, 784)              3136      \n",
            " ormalization)                                                   \n",
            "                                                                 \n",
            " dense_3 (Dense)             (None, 300)               235500    \n",
            "                                                                 \n",
            " batch_normalization_1 (Batc  (None, 300)              1200      \n",
            " hNormalization)                                                 \n",
            "                                                                 \n",
            " dense_4 (Dense)             (None, 100)               30100     \n",
            "                                                                 \n",
            " batch_normalization_2 (Batc  (None, 100)              400       \n",
            " hNormalization)                                                 \n",
            "                                                                 \n",
            " dense_5 (Dense)             (None, 10)                1010      \n",
            "                                                                 \n",
            "=================================================================\n",
            "Total params: 271,346\n",
            "Trainable params: 268,978\n",
            "Non-trainable params: 2,368\n",
            "_________________________________________________________________\n"
          ]
        },
        {
          "name": "stderr",
          "output_type": "stream",
          "text": [
            "c:\\python\\python37\\lib\\site-packages\\keras\\optimizers\\optimizer_v2\\gradient_descent.py:111: UserWarning: The `lr` argument is deprecated, use `learning_rate` instead.\n",
            "  super().__init__(name, **kwargs)\n"
          ]
        }
      ],
      "source": [
        "model.compile(loss=tf.losses.sparse_categorical_crossentropy,\n",
        "               optimizer=tf.keras.optimizers.SGD(lr = 1e-3),\n",
        "               metrics=[\"accuracy\"])\n",
        "model.summary()"
      ]
    },
    {
      "cell_type": "code",
      "execution_count": 10,
      "metadata": {
        "id": "iHvmsiSyWc52"
      },
      "outputs": [],
      "source": [
        "bn1 = model.layers[1]"
      ]
    },
    {
      "cell_type": "code",
      "execution_count": 11,
      "metadata": {
        "colab": {
          "base_uri": "https://localhost:8080/"
        },
        "id": "IsNRm9UJXey-",
        "outputId": "e5efe191-72d8-4943-e043-5aba83d967f7"
      },
      "outputs": [
        {
          "name": "stdout",
          "output_type": "stream",
          "text": [
            "batch_normalization/gamma:0 True\n",
            "batch_normalization/beta:0 True\n",
            "batch_normalization/moving_mean:0 False\n",
            "batch_normalization/moving_variance:0 False\n"
          ]
        }
      ],
      "source": [
        "for var in bn1.variables :\n",
        "  print(var.name , var.trainable)"
      ]
    },
    {
      "cell_type": "code",
      "execution_count": 12,
      "metadata": {
        "colab": {
          "base_uri": "https://localhost:8080/"
        },
        "id": "pP3OQmtMXvCN",
        "outputId": "6b5f830e-01c0-4774-e6bb-71af1658fde5"
      },
      "outputs": [
        {
          "name": "stdout",
          "output_type": "stream",
          "text": [
            "Epoch 1/50\n",
            "1719/1719 [==============================] - 13s 7ms/step - loss: 0.8334 - accuracy: 0.7220 - val_loss: 0.5561 - val_accuracy: 0.8132\n",
            "Epoch 2/50\n",
            "1719/1719 [==============================] - 11s 6ms/step - loss: 0.5771 - accuracy: 0.8002 - val_loss: 0.4806 - val_accuracy: 0.8352\n",
            "Epoch 3/50\n",
            "1719/1719 [==============================] - 11s 6ms/step - loss: 0.5196 - accuracy: 0.8190 - val_loss: 0.4463 - val_accuracy: 0.8470\n",
            "Epoch 4/50\n",
            "1719/1719 [==============================] - 11s 6ms/step - loss: 0.4844 - accuracy: 0.8319 - val_loss: 0.4230 - val_accuracy: 0.8536\n",
            "Epoch 5/50\n",
            "1719/1719 [==============================] - 11s 6ms/step - loss: 0.4611 - accuracy: 0.8387 - val_loss: 0.4081 - val_accuracy: 0.8570\n",
            "Epoch 6/50\n",
            "1719/1719 [==============================] - 11s 7ms/step - loss: 0.4418 - accuracy: 0.8468 - val_loss: 0.3974 - val_accuracy: 0.8604\n",
            "Epoch 7/50\n",
            "1719/1719 [==============================] - 11s 6ms/step - loss: 0.4276 - accuracy: 0.8509 - val_loss: 0.3884 - val_accuracy: 0.8626\n",
            "Epoch 8/50\n",
            "1719/1719 [==============================] - 11s 7ms/step - loss: 0.4158 - accuracy: 0.8545 - val_loss: 0.3810 - val_accuracy: 0.8650\n",
            "Epoch 9/50\n",
            "1719/1719 [==============================] - 11s 7ms/step - loss: 0.4070 - accuracy: 0.8569 - val_loss: 0.3748 - val_accuracy: 0.8640\n",
            "Epoch 10/50\n",
            "1719/1719 [==============================] - 11s 7ms/step - loss: 0.3971 - accuracy: 0.8613 - val_loss: 0.3686 - val_accuracy: 0.8698\n",
            "Epoch 11/50\n",
            "1719/1719 [==============================] - 11s 6ms/step - loss: 0.3887 - accuracy: 0.8627 - val_loss: 0.3631 - val_accuracy: 0.8720\n",
            "Epoch 12/50\n",
            "1719/1719 [==============================] - 11s 6ms/step - loss: 0.3812 - accuracy: 0.8666 - val_loss: 0.3601 - val_accuracy: 0.8722\n",
            "Epoch 13/50\n",
            "1719/1719 [==============================] - 11s 6ms/step - loss: 0.3722 - accuracy: 0.8684 - val_loss: 0.3558 - val_accuracy: 0.8728\n",
            "Epoch 14/50\n",
            "1719/1719 [==============================] - 11s 7ms/step - loss: 0.3684 - accuracy: 0.8714 - val_loss: 0.3521 - val_accuracy: 0.8758\n",
            "Epoch 15/50\n",
            "1719/1719 [==============================] - 11s 7ms/step - loss: 0.3626 - accuracy: 0.8734 - val_loss: 0.3482 - val_accuracy: 0.8758\n",
            "Epoch 16/50\n",
            "1719/1719 [==============================] - 11s 7ms/step - loss: 0.3537 - accuracy: 0.8748 - val_loss: 0.3456 - val_accuracy: 0.8762\n",
            "Epoch 17/50\n",
            "1719/1719 [==============================] - 11s 7ms/step - loss: 0.3493 - accuracy: 0.8760 - val_loss: 0.3417 - val_accuracy: 0.8786\n",
            "Epoch 18/50\n",
            "1719/1719 [==============================] - 11s 7ms/step - loss: 0.3428 - accuracy: 0.8795 - val_loss: 0.3406 - val_accuracy: 0.8790\n",
            "Epoch 19/50\n",
            "1719/1719 [==============================] - 9s 6ms/step - loss: 0.3402 - accuracy: 0.8790 - val_loss: 0.3365 - val_accuracy: 0.8808\n",
            "Epoch 20/50\n",
            "1719/1719 [==============================] - 6s 4ms/step - loss: 0.3354 - accuracy: 0.8812 - val_loss: 0.3353 - val_accuracy: 0.8836\n",
            "Epoch 21/50\n",
            "1719/1719 [==============================] - 7s 4ms/step - loss: 0.3313 - accuracy: 0.8807 - val_loss: 0.3344 - val_accuracy: 0.8830\n",
            "Epoch 22/50\n",
            "1719/1719 [==============================] - 6s 4ms/step - loss: 0.3269 - accuracy: 0.8833 - val_loss: 0.3288 - val_accuracy: 0.8848\n",
            "Epoch 23/50\n",
            "1719/1719 [==============================] - 6s 3ms/step - loss: 0.3224 - accuracy: 0.8850 - val_loss: 0.3280 - val_accuracy: 0.8848\n",
            "Epoch 24/50\n",
            "1719/1719 [==============================] - 6s 4ms/step - loss: 0.3178 - accuracy: 0.8853 - val_loss: 0.3264 - val_accuracy: 0.8850\n",
            "Epoch 25/50\n",
            "1719/1719 [==============================] - 6s 4ms/step - loss: 0.3133 - accuracy: 0.8887 - val_loss: 0.3269 - val_accuracy: 0.8860\n",
            "Epoch 26/50\n",
            "1719/1719 [==============================] - 9s 5ms/step - loss: 0.3100 - accuracy: 0.8875 - val_loss: 0.3240 - val_accuracy: 0.8872\n",
            "Epoch 27/50\n",
            "1551/1719 [==========================>...] - ETA: 1s - loss: 0.3076 - accuracy: 0.8917"
          ]
        }
      ],
      "source": [
        "history = model.fit(x_train,y_train , epochs = 50 , validation_data = (x_valid , y_valid))\n"
      ]
    },
    {
      "cell_type": "code",
      "execution_count": null,
      "metadata": {
        "id": "qwiEJS1zX4Ln"
      },
      "outputs": [],
      "source": []
    }
  ],
  "metadata": {
    "colab": {
      "provenance": []
    },
    "kernelspec": {
      "display_name": "Python 3",
      "language": "python",
      "name": "python3"
    },
    "language_info": {
      "codemirror_mode": {
        "name": "ipython",
        "version": 3
      },
      "file_extension": ".py",
      "mimetype": "text/x-python",
      "name": "python",
      "nbconvert_exporter": "python",
      "pygments_lexer": "ipython3",
      "version": "3.9.6"
    },
    "vscode": {
      "interpreter": {
        "hash": "f7608d97510eb413e289a9ba9d2d6d39358a0b182af5f310d2c58353f8e6821a"
      }
    }
  },
  "nbformat": 4,
  "nbformat_minor": 0
}
